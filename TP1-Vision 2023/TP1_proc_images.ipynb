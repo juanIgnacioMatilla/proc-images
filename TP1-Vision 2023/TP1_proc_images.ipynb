{
  "cells": [
    {
      "cell_type": "markdown",
      "metadata": {},
      "source": [
        "### Ejercicio 1\n",
        "\n"
      ]
    },
    {
      "cell_type": "markdown",
      "metadata": {},
      "source": [
        "La ecuación que describe la formación de imágenes de una lente convergente está dada por:\n",
        "$$\\frac{n'}{s'} + \\frac{n}{s} = \\frac{n'}{f'}$$\n",
        "donde $n$ y $s$ son respectivamente el índice de refracción y la distancia objeto a la izquierda de la lente, $n'$ y $s'$ el índice de refracción y la distancia imagen a la derecha de la lente y $f'$ la distancia focal imagen. [1] \n",
        "\n",
        "<p align=\"center\">\n",
        "  <img src=\"lens.png\" alt=\"Trazado de rayos\" width=\"700\">\n",
        "</p>\n",
        "\n",
        "El cociente entre el tamaño de la imagen y el tamaño del objeto define el aumento $m$, el cual también se puede calcular como el cociente entre $s'$ y $s$.\n",
        "\n",
        "Para el caso donde el objeto se encuentra muy lejano a la lente $s\\rightarrow \\infty$, resultando $s' = f'$. En el trazado de rayos, esto se representa haciendo que los rayos provenientes del objeto ingresen paralelos a la lente (ya que vienen del infinito), lo cual coincide con la representación de foco lejano en el sistema visual humano.\n",
        "\n",
        "Para un celular ubicado a 30 cm de nuestros ojos la distancia objeto resulta $s=300~\\mathrm{mm}$, el índice de refracción del aire (a la izquierda de la lente) es $n=1$ y el índice de refracción del humor vítreo (a la derecha) es $n'=1,336$. En condiciones de foco lejano, el cristalino se aplana aumentando la distancia focal imagen, la cual puede alcanzar como máximo un valor $f' = 17~\\mathrm{mm}$. De la ecuación para lentes delgadas resulta $s' = 17,75~\\mathrm{mm}$ (cercano a $f'$ dado que el celular está lejos de la lente).\n",
        "\n",
        "Dada la densidad de 150000 conos por $\\mathrm{mm}^2$ en el sensor, si el área total de este es de $S_s = 2,25~\\mathrm{mm}^2$, el número total de conos en el sensor será de 337500, cada uno con una superficie $S_{cono} = 6,67 \\times 10^{-6}~\\mathrm{mm}^2$.\n",
        "\n",
        "Teniendo en cuenta que el tamaño del menor punto visible sobre una pantalla de LCD a $30~ \\mathrm{cm}$ debe formar una imagen como mínimo de superficie $S_{cono}$, se puede calcular la superficie mínima del punto $S_{punto}$ correspondiente:\n",
        "$$m = \\frac{s'}{s} = \\frac{S_{cono}}{S_{punto}}$$\n",
        "\n",
        "resultando $S_{punto} = 1,13\\times 10^{-4}~\\mathrm{mm}^2$.\n",
        "\n",
        "Como referencia, la pantalla de un iPhone 16 tiene $2622 \\times 1206$ píxeles distribuidos en $10696~\\mathrm{mm}^2$, resultando en una superficie aproximada de $3,38\\times 10^{-3}~\\mathrm{mm}^2$ por píxel, valor considerablemente por encima del límite de visión humano a una distancia de $30~\\mathrm{cm}$.\n",
        "\n",
        "[1] Eugene Hecht, Optics, Fifth Edition. Pearson, Global Edition, p. 167, ec 5.17."
      ]
    },
    {
      "cell_type": "markdown",
      "metadata": {},
      "source": [
        "### Ejercicio 2"
      ]
    },
    {
      "cell_type": "markdown",
      "metadata": {},
      "source": [
        "Este ejercicio es similar al Ejercicio 1, solo que en este caso queremos calcular la \"altura\" $h$ de la pared que se corresponde con el lado $h'$ de un píxel. \n",
        "\n",
        "El CCD de la cámara (del inglés *charge-coupled device*) es el sensor que registra la imagen, cuya resolución se expresa en megapíxeles. En este caso, un CCD de $\\mathrm{10~mm\\times 10~mm}$ con $10^6$ píxeles de resolución representa píxeles de $10^{-4}~\\mathrm{mm}^2$ de superficie, es decir de $h' = 0,01~\\mathrm{mm}$ de lado.\n",
        "\n",
        "La distancia $s'$ a la cual se forma la imagen dentro del lente se obtiene de la ecuación para lentes delgadas, siendo $s=1000~\\mathrm{mm}$, $f' = 35~\\mathrm{mm}$ y $n=n'=1$ (ya que dentro de la cámara el medio es el mismo aire). Así se obtiene $s'=36,27~\\mathrm{mm}$.\n",
        "\n",
        "A partir del aumento se puede calcular $h$ igual que antes:\n",
        "$$m = \\frac{s'}{s} = \\frac{h'}{h}$$\n",
        "\n",
        "resultando $h = 0,28~\\mathrm{mm}$, lo cual representa una distancia de un pixel sobre la imagen tomada por la cámara.\n"
      ]
    },
    {
      "cell_type": "markdown",
      "metadata": {},
      "source": [
        "### Ejercicio 4"
      ]
    },
    {
      "cell_type": "code",
      "execution_count": 1,
      "metadata": {
        "colab": {
          "base_uri": "https://localhost:8080/",
          "height": 348,
          "referenced_widgets": [
            "d2d8dfc12aba4f1d822b918491eaa4e5",
            "7876601685c34053953af447a5d9309e",
            "8ad362a56c444fa8a3499bcad1bf0881",
            "51ea62e029e141f4888364b865a84912",
            "f88930ba369748f68e3befa35afa4ffc",
            "8ae9fea14f1f4d4b9b61fac20c48321d",
            "30fa01b281e64234b35de82399fc2617"
          ]
        },
        "id": "9zoJMCcoypa4",
        "outputId": "ed5c6922-8bf5-4072-e52d-63656224cf3f"
      },
      "outputs": [
        {
          "data": {
            "application/vnd.jupyter.widget-view+json": {
              "model_id": "a86b0bd5c62a4dc6a831a647fb7ea1fe",
              "version_major": 2,
              "version_minor": 0
            },
            "text/plain": [
              "interactive(children=(IntSlider(value=127, description='cen', max=255), Output()), _dom_classes=('widget-inter…"
            ]
          },
          "metadata": {},
          "output_type": "display_data"
        }
      ],
      "source": [
        "import numpy as np\n",
        "import matplotlib.pyplot as plt\n",
        "from ipywidgets import interact, IntSlider\n",
        "\n",
        "# Función para crear dos imágenes con intensidad central variable\n",
        "def imgs(cen):\n",
        "    # Imagen con vecinos de intensidad 63\n",
        "    img_63 = np.full((3, 3), 63, dtype=np.uint8) # Lleno todos con 63\n",
        "    img_63[1, 1] = cen # Reemplazo el central\n",
        "\n",
        "    # Imagen con vecinos de intensidad 223\n",
        "    img_223 = np.full((3, 3), 223, dtype=np.uint8)\n",
        "    img_223[1, 1] = cen\n",
        "\n",
        "    # Mostrar las dos imágenes\n",
        "    fig, axs = plt.subplots(1, 2, figsize=(6, 3))\n",
        "    axs[0].imshow(img_63, cmap='gray', vmin=0, vmax=255)\n",
        "    axs[0].set_title(\"Vecinos = 63\")\n",
        "    axs[0].axis('off')\n",
        "\n",
        "    axs[1].imshow(img_223, cmap='gray', vmin=0, vmax=255)\n",
        "    axs[1].set_title(\"Vecinos = 223\")\n",
        "    axs[1].axis('off')\n",
        "\n",
        "    plt.tight_layout()\n",
        "    plt.show()\n",
        "\n",
        "# Slider para controlar el valor del píxel central\n",
        "interact(imgs, cen=IntSlider(min=0, max=255, step=1, value=127));"
      ]
    },
    {
      "cell_type": "markdown",
      "metadata": {},
      "source": [
        "Se observa que dentro del rango comprendido entre 63 y 223 (correspondiente a las luminosidades de los píxeles externos) los píxeles centrales se perciben con intensidades distintas, resultando siempre más claro el píxel central de la izquierda. Por fuera de dicho rango, los píxeles centrales comienzan a parecerse más, resultando idénticos para el ojo humano solamente en los valores mínimos y máximos para la luminancia (0 y 255 respectivamente). Para cualquier otro valor intermedio, el sistema visual humano amplifica las diferencias locales para resaltar el contraste del píxel, incluso cuando físicamente estas diferencias no existen. Este fenómeno es conocido como **contrate simultáneo**."
      ]
    },
    {
      "cell_type": "code",
      "execution_count": 2,
      "metadata": {},
      "outputs": [
        {
          "data": {
            "application/vnd.jupyter.widget-view+json": {
              "model_id": "775b2e85667342fbbbc5f0584d4775d8",
              "version_major": 2,
              "version_minor": 0
            },
            "text/plain": [
              "interactive(children=(IntSlider(value=30, description='cen', max=255), IntSlider(value=100, description='ext_i…"
            ]
          },
          "metadata": {},
          "output_type": "display_data"
        }
      ],
      "source": [
        "def imgs(cen, ext_izq, ext_der):\n",
        "    # Imagen izquierda\n",
        "    img_izq = np.full((3, 3), ext_izq, dtype=np.uint8)\n",
        "    img_izq[1, 1] = cen\n",
        "\n",
        "    # Imagen derecha\n",
        "    img_der = np.full((3, 3), ext_der, dtype=np.uint8)\n",
        "    img_der[1, 1] = cen\n",
        "\n",
        "    # Mostrar las dos imágenes\n",
        "    fig, axs = plt.subplots(1, 2, figsize=(6, 3))\n",
        "    axs[0].imshow(img_izq, cmap='gray', vmin=0, vmax=255)\n",
        "    axs[0].axis('off')\n",
        "\n",
        "    axs[1].imshow(img_der, cmap='gray', vmin=0, vmax=255)\n",
        "    axs[1].axis('off')\n",
        "\n",
        "    plt.tight_layout()\n",
        "    plt.show()\n",
        "\n",
        "# Sliders para controlar los valores de los píxeles\n",
        "interact(imgs, cen=IntSlider(min=0, max=255, step=1, value=30), \n",
        "         ext_izq=IntSlider(min=0, max=255, step=1, value=100),\n",
        "         ext_der=IntSlider(min=0, max=255, step=1, value=110));"
      ]
    },
    {
      "cell_type": "markdown",
      "metadata": {},
      "source": [
        "Si ahora se modifica el rango dado por las luminancias de los píxeles vecinos, haciéndolo mucho más chico, se observa que por debajo del límite inferior del rango o por encima del límite superior del mismo los píxeles centrales se perciben con una luminancia mucho más parecida que antes. Sin embargo, para valores de luminancia del píxel central dentro del rango se observa que prevalece el fenómeno de contraste simultáneo. "
      ]
    }
  ],
  "metadata": {
    "colab": {
      "provenance": []
    },
    "kernelspec": {
      "display_name": "pi-TP1.venv (3.13.5)",
      "language": "python",
      "name": "python3"
    },
    "language_info": {
      "codemirror_mode": {
        "name": "ipython",
        "version": 3
      },
      "file_extension": ".py",
      "mimetype": "text/x-python",
      "name": "python",
      "nbconvert_exporter": "python",
      "pygments_lexer": "ipython3",
      "version": "3.13.5"
    },
    "widgets": {
      "application/vnd.jupyter.widget-state+json": {
        "30fa01b281e64234b35de82399fc2617": {
          "model_module": "@jupyter-widgets/base",
          "model_module_version": "1.2.0",
          "model_name": "LayoutModel",
          "state": {
            "_model_module": "@jupyter-widgets/base",
            "_model_module_version": "1.2.0",
            "_model_name": "LayoutModel",
            "_view_count": null,
            "_view_module": "@jupyter-widgets/base",
            "_view_module_version": "1.2.0",
            "_view_name": "LayoutView",
            "align_content": null,
            "align_items": null,
            "align_self": null,
            "border": null,
            "bottom": null,
            "display": null,
            "flex": null,
            "flex_flow": null,
            "grid_area": null,
            "grid_auto_columns": null,
            "grid_auto_flow": null,
            "grid_auto_rows": null,
            "grid_column": null,
            "grid_gap": null,
            "grid_row": null,
            "grid_template_areas": null,
            "grid_template_columns": null,
            "grid_template_rows": null,
            "height": null,
            "justify_content": null,
            "justify_items": null,
            "left": null,
            "margin": null,
            "max_height": null,
            "max_width": null,
            "min_height": null,
            "min_width": null,
            "object_fit": null,
            "object_position": null,
            "order": null,
            "overflow": null,
            "overflow_x": null,
            "overflow_y": null,
            "padding": null,
            "right": null,
            "top": null,
            "visibility": null,
            "width": null
          }
        },
        "51ea62e029e141f4888364b865a84912": {
          "model_module": "@jupyter-widgets/base",
          "model_module_version": "1.2.0",
          "model_name": "LayoutModel",
          "state": {
            "_model_module": "@jupyter-widgets/base",
            "_model_module_version": "1.2.0",
            "_model_name": "LayoutModel",
            "_view_count": null,
            "_view_module": "@jupyter-widgets/base",
            "_view_module_version": "1.2.0",
            "_view_name": "LayoutView",
            "align_content": null,
            "align_items": null,
            "align_self": null,
            "border": null,
            "bottom": null,
            "display": null,
            "flex": null,
            "flex_flow": null,
            "grid_area": null,
            "grid_auto_columns": null,
            "grid_auto_flow": null,
            "grid_auto_rows": null,
            "grid_column": null,
            "grid_gap": null,
            "grid_row": null,
            "grid_template_areas": null,
            "grid_template_columns": null,
            "grid_template_rows": null,
            "height": null,
            "justify_content": null,
            "justify_items": null,
            "left": null,
            "margin": null,
            "max_height": null,
            "max_width": null,
            "min_height": null,
            "min_width": null,
            "object_fit": null,
            "object_position": null,
            "order": null,
            "overflow": null,
            "overflow_x": null,
            "overflow_y": null,
            "padding": null,
            "right": null,
            "top": null,
            "visibility": null,
            "width": null
          }
        },
        "7876601685c34053953af447a5d9309e": {
          "model_module": "@jupyter-widgets/controls",
          "model_module_version": "1.5.0",
          "model_name": "IntSliderModel",
          "state": {
            "_dom_classes": [],
            "_model_module": "@jupyter-widgets/controls",
            "_model_module_version": "1.5.0",
            "_model_name": "IntSliderModel",
            "_view_count": null,
            "_view_module": "@jupyter-widgets/controls",
            "_view_module_version": "1.5.0",
            "_view_name": "IntSliderView",
            "continuous_update": true,
            "description": "valor_central",
            "description_tooltip": null,
            "disabled": false,
            "layout": "IPY_MODEL_f88930ba369748f68e3befa35afa4ffc",
            "max": 255,
            "min": 0,
            "orientation": "horizontal",
            "readout": true,
            "readout_format": "d",
            "step": 1,
            "style": "IPY_MODEL_8ae9fea14f1f4d4b9b61fac20c48321d",
            "value": 125
          }
        },
        "8ad362a56c444fa8a3499bcad1bf0881": {
          "model_module": "@jupyter-widgets/output",
          "model_module_version": "1.0.0",
          "model_name": "OutputModel",
          "state": {
            "_dom_classes": [],
            "_model_module": "@jupyter-widgets/output",
            "_model_module_version": "1.0.0",
            "_model_name": "OutputModel",
            "_view_count": null,
            "_view_module": "@jupyter-widgets/output",
            "_view_module_version": "1.0.0",
            "_view_name": "OutputView",
            "layout": "IPY_MODEL_30fa01b281e64234b35de82399fc2617",
            "msg_id": "",
            "outputs": [
              {
                "data": {
                  "image/png": "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\n",
                  "text/plain": "<Figure size 600x300 with 2 Axes>"
                },
                "metadata": {},
                "output_type": "display_data"
              }
            ]
          }
        },
        "8ae9fea14f1f4d4b9b61fac20c48321d": {
          "model_module": "@jupyter-widgets/controls",
          "model_module_version": "1.5.0",
          "model_name": "SliderStyleModel",
          "state": {
            "_model_module": "@jupyter-widgets/controls",
            "_model_module_version": "1.5.0",
            "_model_name": "SliderStyleModel",
            "_view_count": null,
            "_view_module": "@jupyter-widgets/base",
            "_view_module_version": "1.2.0",
            "_view_name": "StyleView",
            "description_width": "",
            "handle_color": null
          }
        },
        "d2d8dfc12aba4f1d822b918491eaa4e5": {
          "model_module": "@jupyter-widgets/controls",
          "model_module_version": "1.5.0",
          "model_name": "VBoxModel",
          "state": {
            "_dom_classes": [
              "widget-interact"
            ],
            "_model_module": "@jupyter-widgets/controls",
            "_model_module_version": "1.5.0",
            "_model_name": "VBoxModel",
            "_view_count": null,
            "_view_module": "@jupyter-widgets/controls",
            "_view_module_version": "1.5.0",
            "_view_name": "VBoxView",
            "box_style": "",
            "children": [
              "IPY_MODEL_7876601685c34053953af447a5d9309e",
              "IPY_MODEL_8ad362a56c444fa8a3499bcad1bf0881"
            ],
            "layout": "IPY_MODEL_51ea62e029e141f4888364b865a84912"
          }
        },
        "f88930ba369748f68e3befa35afa4ffc": {
          "model_module": "@jupyter-widgets/base",
          "model_module_version": "1.2.0",
          "model_name": "LayoutModel",
          "state": {
            "_model_module": "@jupyter-widgets/base",
            "_model_module_version": "1.2.0",
            "_model_name": "LayoutModel",
            "_view_count": null,
            "_view_module": "@jupyter-widgets/base",
            "_view_module_version": "1.2.0",
            "_view_name": "LayoutView",
            "align_content": null,
            "align_items": null,
            "align_self": null,
            "border": null,
            "bottom": null,
            "display": null,
            "flex": null,
            "flex_flow": null,
            "grid_area": null,
            "grid_auto_columns": null,
            "grid_auto_flow": null,
            "grid_auto_rows": null,
            "grid_column": null,
            "grid_gap": null,
            "grid_row": null,
            "grid_template_areas": null,
            "grid_template_columns": null,
            "grid_template_rows": null,
            "height": null,
            "justify_content": null,
            "justify_items": null,
            "left": null,
            "margin": null,
            "max_height": null,
            "max_width": null,
            "min_height": null,
            "min_width": null,
            "object_fit": null,
            "object_position": null,
            "order": null,
            "overflow": null,
            "overflow_x": null,
            "overflow_y": null,
            "padding": null,
            "right": null,
            "top": null,
            "visibility": null,
            "width": null
          }
        }
      }
    }
  },
  "nbformat": 4,
  "nbformat_minor": 0
}
