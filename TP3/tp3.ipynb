{
 "cells": [
  {
   "cell_type": "markdown",
   "id": "d0e63e1b",
   "metadata": {},
   "source": [
    "# Trabajo Practico Nro 3: Filtros"
   ]
  },
  {
   "cell_type": "markdown",
   "id": "7ff1e6b9",
   "metadata": {},
   "source": [
    "### Ejercicio 1"
   ]
  }
 ],
 "metadata": {
  "language_info": {
   "name": "python"
  }
 },
 "nbformat": 4,
 "nbformat_minor": 5
}
